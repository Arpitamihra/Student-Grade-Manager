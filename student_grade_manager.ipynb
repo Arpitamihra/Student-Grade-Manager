{
  "nbformat": 4,
  "nbformat_minor": 0,
  "metadata": {
    "colab": {
      "provenance": [],
      "authorship_tag": "ABX9TyPkpt21W7OR75tY0rMXYRiH",
      "include_colab_link": true
    },
    "kernelspec": {
      "name": "python3",
      "display_name": "Python 3"
    },
    "language_info": {
      "name": "python"
    }
  },
  "cells": [
    {
      "cell_type": "markdown",
      "metadata": {
        "id": "view-in-github",
        "colab_type": "text"
      },
      "source": [
        "<a href=\"https://colab.research.google.com/github/Arpitamihra/Student-Grade-Manager/blob/main/student_grade_manager.ipynb\" target=\"_parent\"><img src=\"https://colab.research.google.com/assets/colab-badge.svg\" alt=\"Open In Colab\"/></a>"
      ]
    },
    {
      "cell_type": "markdown",
      "source": [],
      "metadata": {
        "id": "YAb0L6EwOqXB"
      }
    },
    {
      "cell_type": "code",
      "source": [
        "import json\n",
        "import os"
      ],
      "metadata": {
        "id": "3Ef-Z15FOyWK"
      },
      "execution_count": null,
      "outputs": []
    },
    {
      "cell_type": "code",
      "source": [
        "DATA_FILE = \"students.json\""
      ],
      "metadata": {
        "id": "2jrIUwqAO33x"
      },
      "execution_count": null,
      "outputs": []
    },
    {
      "cell_type": "code",
      "source": [
        " ## Load existing data or create new\n",
        "def load_data():\n",
        "    if os.path.exists(DATA_FILE):\n",
        "        with open(DATA_FILE, 'r') as file:\n",
        "            return json.load(file)\n",
        "    return []"
      ],
      "metadata": {
        "id": "52OJhH4DPHmF"
      },
      "execution_count": null,
      "outputs": []
    },
    {
      "cell_type": "code",
      "source": [
        "# Save data to file\n",
        "def save_data(data):\n",
        "    with open(DATA_FILE, 'w') as file:\n",
        "        json.dump(data, file, indent=4)"
      ],
      "metadata": {
        "id": "3L8k9RbRPnxL"
      },
      "execution_count": null,
      "outputs": []
    },
    {
      "cell_type": "code",
      "source": [
        "# Grade calculator\n",
        "def calculate_grade(average):\n",
        "    if average >= 90:\n",
        "        return \"A+\"\n",
        "    elif average >= 80:\n",
        "        return \"A\"\n",
        "    elif average >= 70:\n",
        "        return \"B\"\n",
        "    elif average >= 60:\n",
        "        return \"C\"\n",
        "    else:\n",
        "        return \"D\""
      ],
      "metadata": {
        "id": "UT6qz7FYPxhi"
      },
      "execution_count": null,
      "outputs": []
    },
    {
      "cell_type": "code",
      "source": [
        "# Add a student record\n",
        "def add_student(data):\n",
        "    name = input(\"Enter student's name: \")\n",
        "    marks = []\n",
        "    for i in range(3):\n",
        "        mark = float(input(f\"Enter mark {i+1}: \"))\n",
        "        marks.append(mark)\n",
        "    average = sum(marks) / len(marks)\n",
        "    grade = calculate_grade(average)\n",
        "\n",
        "    student = {\n",
        "        \"name\": name,\n",
        "        \"marks\": marks,\n",
        "        \"average\": round(average, 2),\n",
        "        \"grade\": grade\n",
        "    }\n",
        "    data.append(student)\n",
        "    save_data(data)\n",
        "    print(f\"\\n{name}'s record added successfully!\")"
      ],
      "metadata": {
        "id": "BxOxKyt8P7p6"
      },
      "execution_count": null,
      "outputs": []
    },
    {
      "cell_type": "code",
      "source": [
        "# Display all records\n",
        "def display_students(data):\n",
        "    if not data:\n",
        "        print(\"No records found.\")\n",
        "        return\n",
        "    print(\"\\nAll Student Records:\")\n",
        "    for student in data:\n",
        "        print(f\"\\nName: {student['name']}\")\n",
        "        print(f\"Marks: {student['marks']}\")\n",
        "        print(f\"Average: {student['average']}\")\n",
        "        print(f\"Grade: {student['grade']}\")"
      ],
      "metadata": {
        "id": "LxTpAIIPQEE-"
      },
      "execution_count": null,
      "outputs": []
    },
    {
      "cell_type": "code",
      "source": [
        "# Search by student name\n",
        "def search_student(data):\n",
        "    name = input(\"Enter the student's name to search: \")\n",
        "    found = False\n",
        "    for student in data:\n",
        "        if student['name'].lower() == name.lower():\n",
        "            print(f\"\\nRecord found for {student['name']}:\")\n",
        "            print(f\"Marks: {student['marks']}\")\n",
        "            print(f\"Average: {student['average']}\")\n",
        "            print(f\"Grade: {student['grade']}\")\n",
        "            found = True\n",
        "            break\n",
        "    if not found:\n",
        "        print(\"Student not found.\")"
      ],
      "metadata": {
        "id": "0BJ3Utw4QNPZ"
      },
      "execution_count": null,
      "outputs": []
    },
    {
      "cell_type": "code",
      "source": [
        "# Main Menu\n",
        "def main():\n",
        "    data = load_data()\n",
        "    while True:\n",
        "        print(\"\\n--- Student Grade Manager ---\")\n",
        "        print(\"1. Add Student\")\n",
        "        print(\"2. View All Students\")\n",
        "        print(\"3. Search Student\")\n",
        "        print(\"4. Exit\")\n",
        "        choice = input(\"Enter your choice (1-4): \")\n",
        "\n",
        "        if choice == '1':\n",
        "            add_student(data)\n",
        "        elif choice == '2':\n",
        "            display_students(data)\n",
        "        elif choice == '3':\n",
        "            search_student(data)\n",
        "        elif choice == '4':\n",
        "            print(\"Exiting... Goodbye!\")\n",
        "            break\n",
        "        else:\n",
        "            print(\"Invalid choice. Try again.\")"
      ],
      "metadata": {
        "id": "WTps43yLQWaK"
      },
      "execution_count": null,
      "outputs": []
    },
    {
      "cell_type": "code",
      "source": [
        "if __name__ == \"__main__\":\n",
        "    main()"
      ],
      "metadata": {
        "colab": {
          "base_uri": "https://localhost:8080/"
        },
        "id": "gfkixEGBQhsR",
        "outputId": "fc248aad-255b-44cd-ebb4-d3bd5e7fb1b1"
      },
      "execution_count": null,
      "outputs": [
        {
          "output_type": "stream",
          "name": "stdout",
          "text": [
            "\n",
            "--- Student Grade Manager ---\n",
            "1. Add Student\n",
            "2. View All Students\n",
            "3. Search Student\n",
            "4. Exit\n",
            "Enter your choice (1-4): 1\n",
            "Enter student's name: Arpita Mishra\n",
            "Enter mark 1: 70\n",
            "Enter mark 2: 80\n",
            "Enter mark 3: 60\n",
            "\n",
            "Arpita Mishra's record added successfully!\n",
            "\n",
            "--- Student Grade Manager ---\n",
            "1. Add Student\n",
            "2. View All Students\n",
            "3. Search Student\n",
            "4. Exit\n",
            "Enter your choice (1-4): 2\n",
            "\n",
            "All Student Records:\n",
            "\n",
            "Name: Joshn\n",
            "Marks: [70.0, 50.0, 40.0]\n",
            "Average: 53.33\n",
            "Grade: D\n",
            "\n",
            "Name: Arpita Mishra\n",
            "Marks: [70.0, 80.0, 60.0]\n",
            "Average: 70.0\n",
            "Grade: B\n",
            "\n",
            "--- Student Grade Manager ---\n",
            "1. Add Student\n",
            "2. View All Students\n",
            "3. Search Student\n",
            "4. Exit\n",
            "Enter your choice (1-4): 3\n",
            "Enter the student's name to search: arpita mishra\n",
            "\n",
            "Record found for Arpita Mishra:\n",
            "Marks: [70.0, 80.0, 60.0]\n",
            "Average: 70.0\n",
            "Grade: B\n",
            "\n",
            "--- Student Grade Manager ---\n",
            "1. Add Student\n",
            "2. View All Students\n",
            "3. Search Student\n",
            "4. Exit\n",
            "Enter your choice (1-4): 4\n",
            "Exiting... Goodbye!\n"
          ]
        }
      ]
    }
  ]
}